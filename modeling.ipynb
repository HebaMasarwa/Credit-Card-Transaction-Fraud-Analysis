{
 "cells": [
  {
   "cell_type": "markdown",
   "id": "c4a96939",
   "metadata": {},
   "source": [
    "# Model Implementation"
   ]
  },
  {
   "cell_type": "markdown",
   "id": "fbdd8cc4",
   "metadata": {},
   "source": [
    "### Introduction"
   ]
  },
  {
   "cell_type": "code",
   "execution_count": 1,
   "id": "a4cb1a79",
   "metadata": {},
   "outputs": [],
   "source": [
    "import pandas as pd\n",
    "import matplotlib.pyplot as plt\n",
    "import seaborn as sns\n",
    "from sklearn.model_selection import train_test_split"
   ]
  },
  {
   "cell_type": "code",
   "execution_count": 30,
   "id": "ccdc5db7",
   "metadata": {},
   "outputs": [],
   "source": [
    "try:\n",
    "    data = pd.read_csv('credit_card_cleaned.csv')\n",
    "except:\n",
    "    print('Error while loading the file')"
   ]
  },
  {
   "cell_type": "code",
   "execution_count": 31,
   "id": "8e579a51",
   "metadata": {},
   "outputs": [
    {
     "data": {
      "text/html": [
       "<div>\n",
       "<style scoped>\n",
       "    .dataframe tbody tr th:only-of-type {\n",
       "        vertical-align: middle;\n",
       "    }\n",
       "\n",
       "    .dataframe tbody tr th {\n",
       "        vertical-align: top;\n",
       "    }\n",
       "\n",
       "    .dataframe thead th {\n",
       "        text-align: right;\n",
       "    }\n",
       "</style>\n",
       "<table border=\"1\" class=\"dataframe\">\n",
       "  <thead>\n",
       "    <tr style=\"text-align: right;\">\n",
       "      <th></th>\n",
       "      <th>cc_num</th>\n",
       "      <th>merchant</th>\n",
       "      <th>category</th>\n",
       "      <th>amt</th>\n",
       "      <th>first</th>\n",
       "      <th>last</th>\n",
       "      <th>gender</th>\n",
       "      <th>street</th>\n",
       "      <th>city</th>\n",
       "      <th>state</th>\n",
       "      <th>zip</th>\n",
       "      <th>lat</th>\n",
       "      <th>long</th>\n",
       "      <th>city_pop</th>\n",
       "      <th>job</th>\n",
       "      <th>dob</th>\n",
       "      <th>trans_num</th>\n",
       "      <th>unix_time</th>\n",
       "      <th>merch_lat</th>\n",
       "      <th>merch_long</th>\n",
       "      <th>is_fraud</th>\n",
       "      <th>merch_zipcode</th>\n",
       "      <th>customer_id_str</th>\n",
       "      <th>customer_id</th>\n",
       "      <th>age</th>\n",
       "      <th>trans_date</th>\n",
       "      <th>trans_time</th>\n",
       "      <th>age_bin</th>\n",
       "      <th>hour</th>\n",
       "      <th>time_bin</th>\n",
       "      <th>day_of_week</th>\n",
       "    </tr>\n",
       "  </thead>\n",
       "  <tbody>\n",
       "    <tr>\n",
       "      <th>0</th>\n",
       "      <td>2703186189652095</td>\n",
       "      <td>fraud_Rippin, Kub and Mann</td>\n",
       "      <td>misc_net</td>\n",
       "      <td>4.97</td>\n",
       "      <td>Jennifer</td>\n",
       "      <td>Banks</td>\n",
       "      <td>F</td>\n",
       "      <td>561 Perry Cove</td>\n",
       "      <td>Moravian Falls</td>\n",
       "      <td>NC</td>\n",
       "      <td>28654</td>\n",
       "      <td>36.0788</td>\n",
       "      <td>-81.1781</td>\n",
       "      <td>3495</td>\n",
       "      <td>Psychologist, counselling</td>\n",
       "      <td>1988-03-09</td>\n",
       "      <td>0b242abb623afc578575680df30655b9</td>\n",
       "      <td>1325376018</td>\n",
       "      <td>36.011293</td>\n",
       "      <td>-82.048315</td>\n",
       "      <td>0</td>\n",
       "      <td>28705.0</td>\n",
       "      <td>jennifer_banks_f_psychologist, counselling_mor...</td>\n",
       "      <td>0</td>\n",
       "      <td>37</td>\n",
       "      <td>2019-01-01</td>\n",
       "      <td>00:00:18</td>\n",
       "      <td>30-39</td>\n",
       "      <td>0</td>\n",
       "      <td>00:00-02:00</td>\n",
       "      <td>Tuesday</td>\n",
       "    </tr>\n",
       "    <tr>\n",
       "      <th>1</th>\n",
       "      <td>630423337322</td>\n",
       "      <td>fraud_Heller, Gutmann and Zieme</td>\n",
       "      <td>grocery_pos</td>\n",
       "      <td>107.23</td>\n",
       "      <td>Stephanie</td>\n",
       "      <td>Gill</td>\n",
       "      <td>F</td>\n",
       "      <td>43039 Riley Greens Suite 393</td>\n",
       "      <td>Orient</td>\n",
       "      <td>WA</td>\n",
       "      <td>99160</td>\n",
       "      <td>48.8878</td>\n",
       "      <td>-118.2105</td>\n",
       "      <td>149</td>\n",
       "      <td>Special educational needs teacher</td>\n",
       "      <td>1978-06-21</td>\n",
       "      <td>1f76529f8574734946361c461b024d99</td>\n",
       "      <td>1325376044</td>\n",
       "      <td>49.159047</td>\n",
       "      <td>-118.186462</td>\n",
       "      <td>0</td>\n",
       "      <td>NaN</td>\n",
       "      <td>stephanie_gill_f_special educational needs tea...</td>\n",
       "      <td>1</td>\n",
       "      <td>47</td>\n",
       "      <td>2019-01-01</td>\n",
       "      <td>00:00:44</td>\n",
       "      <td>40-49</td>\n",
       "      <td>0</td>\n",
       "      <td>00:00-02:00</td>\n",
       "      <td>Tuesday</td>\n",
       "    </tr>\n",
       "    <tr>\n",
       "      <th>2</th>\n",
       "      <td>38859492057661</td>\n",
       "      <td>fraud_Lind-Buckridge</td>\n",
       "      <td>entertainment</td>\n",
       "      <td>220.11</td>\n",
       "      <td>Edward</td>\n",
       "      <td>Sanchez</td>\n",
       "      <td>M</td>\n",
       "      <td>594 White Dale Suite 530</td>\n",
       "      <td>Malad City</td>\n",
       "      <td>ID</td>\n",
       "      <td>83252</td>\n",
       "      <td>42.1808</td>\n",
       "      <td>-112.2620</td>\n",
       "      <td>4154</td>\n",
       "      <td>Nature conservation officer</td>\n",
       "      <td>1962-01-19</td>\n",
       "      <td>a1a22d70485983eac12b5b88dad1cf95</td>\n",
       "      <td>1325376051</td>\n",
       "      <td>43.150704</td>\n",
       "      <td>-112.154481</td>\n",
       "      <td>0</td>\n",
       "      <td>83236.0</td>\n",
       "      <td>edward_sanchez_m_nature conservation officer_m...</td>\n",
       "      <td>2</td>\n",
       "      <td>63</td>\n",
       "      <td>2019-01-01</td>\n",
       "      <td>00:00:51</td>\n",
       "      <td>60-69</td>\n",
       "      <td>0</td>\n",
       "      <td>00:00-02:00</td>\n",
       "      <td>Tuesday</td>\n",
       "    </tr>\n",
       "    <tr>\n",
       "      <th>3</th>\n",
       "      <td>3534093764340240</td>\n",
       "      <td>fraud_Kutch, Hermiston and Farrell</td>\n",
       "      <td>gas_transport</td>\n",
       "      <td>45.00</td>\n",
       "      <td>Jeremy</td>\n",
       "      <td>White</td>\n",
       "      <td>M</td>\n",
       "      <td>9443 Cynthia Court Apt. 038</td>\n",
       "      <td>Boulder</td>\n",
       "      <td>MT</td>\n",
       "      <td>59632</td>\n",
       "      <td>46.2306</td>\n",
       "      <td>-112.1138</td>\n",
       "      <td>1939</td>\n",
       "      <td>Patent attorney</td>\n",
       "      <td>1967-01-12</td>\n",
       "      <td>6b849c168bdad6f867558c3793159a81</td>\n",
       "      <td>1325376076</td>\n",
       "      <td>47.034331</td>\n",
       "      <td>-112.561071</td>\n",
       "      <td>0</td>\n",
       "      <td>NaN</td>\n",
       "      <td>jeremy_white_m_patent attorney_boulder</td>\n",
       "      <td>3</td>\n",
       "      <td>58</td>\n",
       "      <td>2019-01-01</td>\n",
       "      <td>00:01:16</td>\n",
       "      <td>50-59</td>\n",
       "      <td>0</td>\n",
       "      <td>00:00-02:00</td>\n",
       "      <td>Tuesday</td>\n",
       "    </tr>\n",
       "    <tr>\n",
       "      <th>4</th>\n",
       "      <td>375534208663984</td>\n",
       "      <td>fraud_Keeling-Crist</td>\n",
       "      <td>misc_pos</td>\n",
       "      <td>41.96</td>\n",
       "      <td>Tyler</td>\n",
       "      <td>Garcia</td>\n",
       "      <td>M</td>\n",
       "      <td>408 Bradley Rest</td>\n",
       "      <td>Doe Hill</td>\n",
       "      <td>VA</td>\n",
       "      <td>24433</td>\n",
       "      <td>38.4207</td>\n",
       "      <td>-79.4629</td>\n",
       "      <td>99</td>\n",
       "      <td>Dance movement psychotherapist</td>\n",
       "      <td>1986-03-28</td>\n",
       "      <td>a41d7549acf90789359a9aa5346dcb46</td>\n",
       "      <td>1325376186</td>\n",
       "      <td>38.674999</td>\n",
       "      <td>-78.632459</td>\n",
       "      <td>0</td>\n",
       "      <td>22844.0</td>\n",
       "      <td>tyler_garcia_m_dance movement psychotherapist_...</td>\n",
       "      <td>4</td>\n",
       "      <td>39</td>\n",
       "      <td>2019-01-01</td>\n",
       "      <td>00:03:06</td>\n",
       "      <td>30-39</td>\n",
       "      <td>0</td>\n",
       "      <td>00:00-02:00</td>\n",
       "      <td>Tuesday</td>\n",
       "    </tr>\n",
       "  </tbody>\n",
       "</table>\n",
       "</div>"
      ],
      "text/plain": [
       "             cc_num                            merchant       category     amt      first     last gender                        street            city state    zip      lat      long  city_pop  \\\n",
       "0  2703186189652095          fraud_Rippin, Kub and Mann       misc_net    4.97   Jennifer    Banks      F                561 Perry Cove  Moravian Falls    NC  28654  36.0788  -81.1781      3495   \n",
       "1      630423337322     fraud_Heller, Gutmann and Zieme    grocery_pos  107.23  Stephanie     Gill      F  43039 Riley Greens Suite 393          Orient    WA  99160  48.8878 -118.2105       149   \n",
       "2    38859492057661                fraud_Lind-Buckridge  entertainment  220.11     Edward  Sanchez      M      594 White Dale Suite 530      Malad City    ID  83252  42.1808 -112.2620      4154   \n",
       "3  3534093764340240  fraud_Kutch, Hermiston and Farrell  gas_transport   45.00     Jeremy    White      M   9443 Cynthia Court Apt. 038         Boulder    MT  59632  46.2306 -112.1138      1939   \n",
       "4   375534208663984                 fraud_Keeling-Crist       misc_pos   41.96      Tyler   Garcia      M              408 Bradley Rest        Doe Hill    VA  24433  38.4207  -79.4629        99   \n",
       "\n",
       "                                 job         dob                         trans_num   unix_time  merch_lat  merch_long  is_fraud  merch_zipcode                                    customer_id_str  \\\n",
       "0          Psychologist, counselling  1988-03-09  0b242abb623afc578575680df30655b9  1325376018  36.011293  -82.048315         0        28705.0  jennifer_banks_f_psychologist, counselling_mor...   \n",
       "1  Special educational needs teacher  1978-06-21  1f76529f8574734946361c461b024d99  1325376044  49.159047 -118.186462         0            NaN  stephanie_gill_f_special educational needs tea...   \n",
       "2        Nature conservation officer  1962-01-19  a1a22d70485983eac12b5b88dad1cf95  1325376051  43.150704 -112.154481         0        83236.0  edward_sanchez_m_nature conservation officer_m...   \n",
       "3                    Patent attorney  1967-01-12  6b849c168bdad6f867558c3793159a81  1325376076  47.034331 -112.561071         0            NaN             jeremy_white_m_patent attorney_boulder   \n",
       "4     Dance movement psychotherapist  1986-03-28  a41d7549acf90789359a9aa5346dcb46  1325376186  38.674999  -78.632459         0        22844.0  tyler_garcia_m_dance movement psychotherapist_...   \n",
       "\n",
       "   customer_id  age  trans_date trans_time age_bin  hour     time_bin day_of_week  \n",
       "0            0   37  2019-01-01   00:00:18   30-39     0  00:00-02:00     Tuesday  \n",
       "1            1   47  2019-01-01   00:00:44   40-49     0  00:00-02:00     Tuesday  \n",
       "2            2   63  2019-01-01   00:00:51   60-69     0  00:00-02:00     Tuesday  \n",
       "3            3   58  2019-01-01   00:01:16   50-59     0  00:00-02:00     Tuesday  \n",
       "4            4   39  2019-01-01   00:03:06   30-39     0  00:00-02:00     Tuesday  "
      ]
     },
     "execution_count": 31,
     "metadata": {},
     "output_type": "execute_result"
    }
   ],
   "source": [
    "pd.set_option('display.max_columns', None)\n",
    "pd.set_option('display.width', 200)\n",
    "\n",
    "data.head()"
   ]
  },
  {
   "cell_type": "code",
   "execution_count": 32,
   "id": "a7e240c8",
   "metadata": {},
   "outputs": [
    {
     "data": {
      "text/plain": [
       "Index(['cc_num', 'merchant', 'category', 'amt', 'first', 'last', 'gender', 'street', 'city', 'state', 'zip', 'lat', 'long', 'city_pop', 'job', 'dob', 'trans_num', 'unix_time', 'merch_lat',\n",
       "       'merch_long', 'is_fraud', 'merch_zipcode', 'customer_id_str', 'customer_id', 'age', 'trans_date', 'trans_time', 'age_bin', 'hour', 'time_bin', 'day_of_week'],\n",
       "      dtype='object')"
      ]
     },
     "execution_count": 32,
     "metadata": {},
     "output_type": "execute_result"
    }
   ],
   "source": [
    "data.columns"
   ]
  },
  {
   "cell_type": "markdown",
   "id": "35842f46",
   "metadata": {},
   "source": [
    "### Train Test Split"
   ]
  },
  {
   "cell_type": "code",
   "execution_count": 33,
   "id": "1ebb9f52",
   "metadata": {},
   "outputs": [],
   "source": [
    "# Features\n",
    "X = data.drop(\"is_fraud\", axis=1)\n",
    "\n",
    "# Target\n",
    "y = data[\"is_fraud\"]\n",
    "\n",
    "# Train-test split (80/20, stratified)\n",
    "X_train, X_test, y_train, y_test = train_test_split(\n",
    "    X, y, test_size=0.2, random_state=42, stratify=y\n",
    ")"
   ]
  },
  {
   "cell_type": "code",
   "execution_count": 34,
   "id": "84202d00",
   "metadata": {},
   "outputs": [
    {
     "name": "stdout",
     "output_type": "stream",
     "text": [
      "Original dataset:\n",
      "is_fraud\n",
      "0    99.421135\n",
      "1     0.578865\n",
      "Name: proportion, dtype: float64\n",
      "\n",
      "Training set:\n",
      "is_fraud\n",
      "0    99.421116\n",
      "1     0.578884\n",
      "Name: proportion, dtype: float64\n",
      "\n",
      "Test set:\n",
      "is_fraud\n",
      "0    99.421212\n",
      "1     0.578788\n",
      "Name: proportion, dtype: float64\n"
     ]
    }
   ],
   "source": [
    "# Checking distribution in the original dataset\n",
    "print(\"Original dataset:\")\n",
    "print(y.value_counts(normalize=True) * 100)\n",
    "\n",
    "# Checking distribution in training set\n",
    "print(\"\\nTraining set:\")\n",
    "print(y_train.value_counts(normalize=True) * 100)\n",
    "\n",
    "# Checking distribution in test set\n",
    "print(\"\\nTest set:\")\n",
    "print(y_test.value_counts(normalize=True) * 100)"
   ]
  },
  {
   "cell_type": "markdown",
   "id": "f25ff4d1",
   "metadata": {},
   "source": [
    "The dataset was split into training and test sets using an 80/20 ratio with stratification on the target variable (`is_fraud`).  \n",
    "This ensures that the class distribution (fraud ≈ 0.58%, non-fraud ≈ 99.42%) is preserved across both sets, preventing bias during model training and evaluation."
   ]
  },
  {
   "cell_type": "markdown",
   "id": "2f7325a3",
   "metadata": {},
   "source": [
    "### Features"
   ]
  },
  {
   "cell_type": "markdown",
   "id": "53326567",
   "metadata": {},
   "source": [
    "**Categories**\n",
    "\n",
    "Although transaction categories are likely to be highly predictive of customer behavior, I decided not to include them in the current feature set. The main reason is memory constraints: aggregating per-customer statistics (count, fraction, median, std) for each of the 14 categories creates large intermediate DataFrames that exceed the available memory on the current system. As a result, including these features would prevent the pipeline from running efficiently. While I acknowledge the importance of categories for predictive power, I opted to focus on other high-signal features that can be computed without exceeding memory limits."
   ]
  },
  {
   "cell_type": "code",
   "execution_count": 35,
   "id": "158e23a5",
   "metadata": {},
   "outputs": [
    {
     "name": "stdout",
     "output_type": "stream",
     "text": [
      "Number of distinct categories in the data set: 14\n"
     ]
    }
   ],
   "source": [
    "print(f\"Number of distinct categories in the data set: {len(X_train[\"category\"].unique())}\")"
   ]
  },
  {
   "cell_type": "markdown",
   "id": "1cc7e6fd",
   "metadata": {},
   "source": [
    "**States**\n",
    "\n",
    "Initially I was going to use One-Hot Encoding to add states as a feature to the model however due to facing memory constraints,  as there are 51 unique values, this feature had to be dropped. However, we will still use latitude and longitude, so location-based information is retained in the model. "
   ]
  },
  {
   "cell_type": "code",
   "execution_count": 36,
   "id": "565cbda0",
   "metadata": {},
   "outputs": [
    {
     "name": "stdout",
     "output_type": "stream",
     "text": [
      "Number of distinct states in the data set: 51\n"
     ]
    }
   ],
   "source": [
    "print(f\"Number of distinct states in the data set: {len(X_train[\"state\"].unique())}\")"
   ]
  },
  {
   "cell_type": "markdown",
   "id": "aa5a76f3",
   "metadata": {},
   "source": [
    "**Merchants**"
   ]
  },
  {
   "cell_type": "code",
   "execution_count": 37,
   "id": "da7c3892",
   "metadata": {},
   "outputs": [
    {
     "name": "stdout",
     "output_type": "stream",
     "text": [
      "Number of distinct merchants in the data set: 693\n"
     ]
    }
   ],
   "source": [
    "print(f\"Number of distinct merchants in the data set: {len(X_train[\"merchant\"].unique())}\")"
   ]
  },
  {
   "cell_type": "markdown",
   "id": "74b65a0d",
   "metadata": {},
   "source": [
    "**Jobs**"
   ]
  },
  {
   "cell_type": "code",
   "execution_count": 38,
   "id": "ad752215",
   "metadata": {},
   "outputs": [
    {
     "name": "stdout",
     "output_type": "stream",
     "text": [
      "Number of distinct jobs in the data set: 494\n"
     ]
    }
   ],
   "source": [
    "print(f\"Number of distinct jobs in the data set: {len(X_train[\"job\"].unique())}\")"
   ]
  },
  {
   "cell_type": "markdown",
   "id": "466ae6dd",
   "metadata": {},
   "source": [
    "**Cities**"
   ]
  },
  {
   "cell_type": "code",
   "execution_count": 39,
   "id": "fc81e28f",
   "metadata": {},
   "outputs": [
    {
     "name": "stdout",
     "output_type": "stream",
     "text": [
      "Number of distinct cities in the data set: 894\n"
     ]
    }
   ],
   "source": [
    "print(f\"Number of distinct cities in the data set: {len(X_train[\"city\"].unique())}\")"
   ]
  },
  {
   "cell_type": "markdown",
   "id": "7f1e1822",
   "metadata": {},
   "source": [
    "**Dropped Features:**\n",
    "\n",
    "- `cc_num`: Provides no predictive value as a feature.\n",
    "\n",
    "- `merchant`, `job`, `city`: Have a very high number of unique values. To keep the model simple and focus on higher-signal features, these are dropped.\n",
    "\n",
    "- `first`, `last`: Customer names—do not provide predictive value.\n",
    "\n",
    "- `street`, `city`, `zip`, `merch_zipcode`, `state`: Redundant since lat, long, and city_pop capture location information.\n",
    "\n",
    "-  `customer_id_str`: Not needed as predictive features."
   ]
  },
  {
   "cell_type": "code",
   "execution_count": 40,
   "id": "cc9703a8",
   "metadata": {},
   "outputs": [],
   "source": [
    "# List of columns to drop\n",
    "cols_to_drop = [\n",
    "    \"cc_num\", \"merchant\", \"job\", \"city\",\n",
    "    \"first\", \"last\", \"street\", \"zip\",\n",
    "    \"customer_id_str\", \"merch_zipcode\" ,\"state\"\n",
    "]\n",
    "\n",
    "# Drop columns from X_train and X_test\n",
    "for col in cols_to_drop:\n",
    "    if col in X_train.columns:\n",
    "        X_train.drop(columns=col, inplace=True)\n",
    "    if col in X_test.columns:\n",
    "        X_test.drop(columns=col, inplace=True)"
   ]
  },
  {
   "cell_type": "markdown",
   "id": "0f47e0a9",
   "metadata": {},
   "source": [
    "**Transaction Amount**"
   ]
  },
  {
   "cell_type": "markdown",
   "id": "56c83690",
   "metadata": {},
   "source": [
    "- Median of Transaction Amount\n",
    "- STD of Transaction Amount\n",
    "- Ratio of Transaction Amount (amount/median)\n",
    "- Amount"
   ]
  },
  {
   "cell_type": "code",
   "execution_count": 41,
   "id": "efc6571b",
   "metadata": {},
   "outputs": [],
   "source": [
    "customer_stats_train = X_train.groupby(\"customer_id\")[\"amt\"].agg(\n",
    "    median_amount=\"median\",\n",
    "    std_amount=\"std\"\n",
    ").fillna(0).reset_index()\n",
    "\n",
    "X_train = X_train.merge(customer_stats_train, on=\"customer_id\", how=\"left\")\n",
    "\n",
    "# creating ratio of transaction amount to median\n",
    "X_train[\"amt_ratio_to_median\"] = X_train[\"amt\"] / X_train[\"median_amount\"]"
   ]
  },
  {
   "cell_type": "code",
   "execution_count": 42,
   "id": "bc48641d",
   "metadata": {},
   "outputs": [],
   "source": [
    "X_test = X_test.merge(customer_stats_train, on=\"customer_id\", how=\"left\")\n",
    "\n",
    "X_test[\"median_amount\"] = X_test[\"median_amount\"].fillna(X_train[\"median_amount\"].median())\n",
    "X_test[\"std_amount\"] = X_test[\"std_amount\"].fillna(X_train[\"std_amount\"].median())\n",
    "\n",
    "X_test[\"amt_ratio_to_median\"] = X_test[\"amt\"] / X_test[\"median_amount\"]"
   ]
  },
  {
   "cell_type": "code",
   "execution_count": 43,
   "id": "a716e91d",
   "metadata": {},
   "outputs": [
    {
     "data": {
      "text/html": [
       "<div>\n",
       "<style scoped>\n",
       "    .dataframe tbody tr th:only-of-type {\n",
       "        vertical-align: middle;\n",
       "    }\n",
       "\n",
       "    .dataframe tbody tr th {\n",
       "        vertical-align: top;\n",
       "    }\n",
       "\n",
       "    .dataframe thead th {\n",
       "        text-align: right;\n",
       "    }\n",
       "</style>\n",
       "<table border=\"1\" class=\"dataframe\">\n",
       "  <thead>\n",
       "    <tr style=\"text-align: right;\">\n",
       "      <th></th>\n",
       "      <th>median_amount</th>\n",
       "      <th>std_amount</th>\n",
       "      <th>amt_ratio_to_median</th>\n",
       "      <th>amt</th>\n",
       "    </tr>\n",
       "  </thead>\n",
       "  <tbody>\n",
       "    <tr>\n",
       "      <th>0</th>\n",
       "      <td>35.39</td>\n",
       "      <td>263.452309</td>\n",
       "      <td>1.461147</td>\n",
       "      <td>51.71</td>\n",
       "    </tr>\n",
       "    <tr>\n",
       "      <th>1</th>\n",
       "      <td>54.86</td>\n",
       "      <td>122.289360</td>\n",
       "      <td>0.251185</td>\n",
       "      <td>13.78</td>\n",
       "    </tr>\n",
       "    <tr>\n",
       "      <th>2</th>\n",
       "      <td>31.44</td>\n",
       "      <td>118.114322</td>\n",
       "      <td>30.574427</td>\n",
       "      <td>961.26</td>\n",
       "    </tr>\n",
       "    <tr>\n",
       "      <th>3</th>\n",
       "      <td>38.64</td>\n",
       "      <td>101.745602</td>\n",
       "      <td>1.130435</td>\n",
       "      <td>43.68</td>\n",
       "    </tr>\n",
       "    <tr>\n",
       "      <th>4</th>\n",
       "      <td>16.84</td>\n",
       "      <td>103.456373</td>\n",
       "      <td>1.964371</td>\n",
       "      <td>33.08</td>\n",
       "    </tr>\n",
       "  </tbody>\n",
       "</table>\n",
       "</div>"
      ],
      "text/plain": [
       "   median_amount  std_amount  amt_ratio_to_median     amt\n",
       "0          35.39  263.452309             1.461147   51.71\n",
       "1          54.86  122.289360             0.251185   13.78\n",
       "2          31.44  118.114322            30.574427  961.26\n",
       "3          38.64  101.745602             1.130435   43.68\n",
       "4          16.84  103.456373             1.964371   33.08"
      ]
     },
     "execution_count": 43,
     "metadata": {},
     "output_type": "execute_result"
    }
   ],
   "source": [
    "X_train[[\"median_amount\", \"std_amount\", \"amt_ratio_to_median\",\"amt\"]].head()"
   ]
  },
  {
   "cell_type": "markdown",
   "id": "b7ff5b2c",
   "metadata": {},
   "source": [
    "**Transaction Time**"
   ]
  },
  {
   "cell_type": "markdown",
   "id": "a1b2dece",
   "metadata": {},
   "source": [
    "- Median of Transaction Time per Bin\n",
    "- STD of Transaction Time per Bin\n",
    "- Fraction of transactions per time interval\n",
    "- Raw transaction time"
   ]
  },
  {
   "cell_type": "markdown",
   "id": "8b4f932d",
   "metadata": {},
   "source": [
    "Binning - 2-Hour Time Intervals.\n",
    "\n",
    "The reason for using 2-hour intervals is based on the EDA visualization, which showed that the time intervals with the most fraud cases are 22:00–24:00, 00:00–02:00, and 02:00–04:00. To preserve this information, I chose to keep the 2-hour time bins."
   ]
  },
  {
   "cell_type": "code",
   "execution_count": 44,
   "id": "ce1210c2",
   "metadata": {},
   "outputs": [],
   "source": [
    "bins = list(range(0, 25, 2))  # [0,2,4,...,24] - 2-Hour Time Intervals\n",
    "labels = [f\"{h:02d}:00-{h+2:02d}:00\" for h in bins[:-1]]\n",
    "\n",
    "# Create the 'time_bin' column for X_train\n",
    "X_train[\"time_bin\"] = pd.cut(X_train[\"hour\"], bins=bins, labels=labels, right=False)\n",
    "\n",
    "# Ordinal encoding: map each label to a number\n",
    "time_bin_mapping = {label: idx for idx, label in enumerate(labels)}\n",
    "X_train[\"time_bin_encoded\"] = X_train[\"time_bin\"].map(time_bin_mapping)"
   ]
  },
  {
   "cell_type": "code",
   "execution_count": 45,
   "id": "52039be1",
   "metadata": {},
   "outputs": [],
   "source": [
    "X_test[\"time_bin\"] = pd.cut(X_test[\"hour\"], bins=bins, labels=labels, right=False)\n",
    "X_test[\"time_bin_encoded\"] = X_test[\"time_bin\"].map(time_bin_mapping)"
   ]
  },
  {
   "cell_type": "code",
   "execution_count": 46,
   "id": "1abef4c5",
   "metadata": {},
   "outputs": [],
   "source": [
    "cust_bin_stats = X_train.groupby(\n",
    "    [\"customer_id\", \"time_bin_encoded\"], observed=True\n",
    ")[\"amt\"].agg(median_amt=\"median\", std_amt=\"std\").unstack(fill_value=0)\n",
    "\n",
    "cust_bin_stats.columns = [f\"{stat}_time_{bin}\" for stat, bin in cust_bin_stats.columns]\n",
    "\n",
    "X_train = X_train.merge(cust_bin_stats, left_on=\"customer_id\", right_index=True, how=\"left\")"
   ]
  },
  {
   "cell_type": "code",
   "execution_count": 47,
   "id": "6b67a154",
   "metadata": {},
   "outputs": [],
   "source": [
    "X_test = X_test.merge(cust_bin_stats, left_on=\"customer_id\", right_index=True, how=\"left\")"
   ]
  },
  {
   "cell_type": "code",
   "execution_count": 48,
   "id": "033b6cf9",
   "metadata": {},
   "outputs": [],
   "source": [
    "# Compute count per customer per time bin\n",
    "cust_bin_counts = X_train.groupby(\n",
    "    [\"customer_id\", \"time_bin_encoded\"], observed=True\n",
    ").size().unstack(fill_value=0)\n",
    "\n",
    "cust_bin_frac = cust_bin_counts.div(cust_bin_counts.sum(axis=1), axis=0)\n",
    "\n",
    "cust_bin_frac.columns = [f\"frac_time_{col}\" for col in cust_bin_frac.columns]\n",
    "\n",
    "X_train = X_train.merge(cust_bin_frac, left_on=\"customer_id\", right_index=True, how=\"left\", suffixes=('', '_frac'))"
   ]
  },
  {
   "cell_type": "code",
   "execution_count": 49,
   "id": "73ec12c4",
   "metadata": {},
   "outputs": [],
   "source": [
    "X_test = X_test.merge(cust_bin_frac, left_on=\"customer_id\", right_index=True, how=\"left\")"
   ]
  },
  {
   "cell_type": "markdown",
   "id": "93d5a94d",
   "metadata": {},
   "source": [
    "We include the raw transaction time as a numeric feature to capture the exact hour and minute of each transaction. This allows the model to detect patterns associated with fraud, complementing the binned time intervals that capture broader behavioral trends."
   ]
  },
  {
   "cell_type": "code",
   "execution_count": 50,
   "id": "85f14cef",
   "metadata": {},
   "outputs": [],
   "source": [
    "X_train['trans_time_numeric'] = (\n",
    "    pd.to_datetime(X_train['trans_time'], format='%H:%M:%S').dt.hour +\n",
    "    pd.to_datetime(X_train['trans_time'], format='%H:%M:%S').dt.minute / 60\n",
    ")\n",
    "\n",
    "X_test['trans_time_numeric'] = (\n",
    "    pd.to_datetime(X_test['trans_time'], format='%H:%M:%S').dt.hour +\n",
    "    pd.to_datetime(X_test['trans_time'], format='%H:%M:%S').dt.minute / 60\n",
    ")"
   ]
  },
  {
   "cell_type": "code",
   "execution_count": 51,
   "id": "9d56dc5a",
   "metadata": {},
   "outputs": [
    {
     "data": {
      "text/html": [
       "<div>\n",
       "<style scoped>\n",
       "    .dataframe tbody tr th:only-of-type {\n",
       "        vertical-align: middle;\n",
       "    }\n",
       "\n",
       "    .dataframe tbody tr th {\n",
       "        vertical-align: top;\n",
       "    }\n",
       "\n",
       "    .dataframe thead th {\n",
       "        text-align: right;\n",
       "    }\n",
       "</style>\n",
       "<table border=\"1\" class=\"dataframe\">\n",
       "  <thead>\n",
       "    <tr style=\"text-align: right;\">\n",
       "      <th></th>\n",
       "      <th>trans_time_numeric</th>\n",
       "    </tr>\n",
       "  </thead>\n",
       "  <tbody>\n",
       "    <tr>\n",
       "      <th>0</th>\n",
       "      <td>3.216667</td>\n",
       "    </tr>\n",
       "    <tr>\n",
       "      <th>1</th>\n",
       "      <td>19.933333</td>\n",
       "    </tr>\n",
       "    <tr>\n",
       "      <th>2</th>\n",
       "      <td>14.700000</td>\n",
       "    </tr>\n",
       "    <tr>\n",
       "      <th>3</th>\n",
       "      <td>21.450000</td>\n",
       "    </tr>\n",
       "    <tr>\n",
       "      <th>4</th>\n",
       "      <td>14.250000</td>\n",
       "    </tr>\n",
       "  </tbody>\n",
       "</table>\n",
       "</div>"
      ],
      "text/plain": [
       "   trans_time_numeric\n",
       "0            3.216667\n",
       "1           19.933333\n",
       "2           14.700000\n",
       "3           21.450000\n",
       "4           14.250000"
      ]
     },
     "execution_count": 51,
     "metadata": {},
     "output_type": "execute_result"
    }
   ],
   "source": [
    "X_train[[\"trans_time_numeric\"]].head()"
   ]
  },
  {
   "cell_type": "code",
   "execution_count": 52,
   "id": "85a2099b",
   "metadata": {},
   "outputs": [
    {
     "data": {
      "text/html": [
       "<div>\n",
       "<style scoped>\n",
       "    .dataframe tbody tr th:only-of-type {\n",
       "        vertical-align: middle;\n",
       "    }\n",
       "\n",
       "    .dataframe tbody tr th {\n",
       "        vertical-align: top;\n",
       "    }\n",
       "\n",
       "    .dataframe thead th {\n",
       "        text-align: right;\n",
       "    }\n",
       "</style>\n",
       "<table border=\"1\" class=\"dataframe\">\n",
       "  <thead>\n",
       "    <tr style=\"text-align: right;\">\n",
       "      <th></th>\n",
       "      <th>median_amt_time_0</th>\n",
       "      <th>median_amt_time_1</th>\n",
       "      <th>median_amt_time_2</th>\n",
       "      <th>median_amt_time_3</th>\n",
       "      <th>median_amt_time_4</th>\n",
       "      <th>median_amt_time_5</th>\n",
       "      <th>median_amt_time_6</th>\n",
       "      <th>median_amt_time_7</th>\n",
       "      <th>median_amt_time_8</th>\n",
       "      <th>median_amt_time_9</th>\n",
       "      <th>median_amt_time_10</th>\n",
       "      <th>median_amt_time_11</th>\n",
       "    </tr>\n",
       "  </thead>\n",
       "  <tbody>\n",
       "    <tr>\n",
       "      <th>0</th>\n",
       "      <td>65.280</td>\n",
       "      <td>64.910</td>\n",
       "      <td>66.955</td>\n",
       "      <td>62.280</td>\n",
       "      <td>68.11</td>\n",
       "      <td>68.67</td>\n",
       "      <td>14.330</td>\n",
       "      <td>11.27</td>\n",
       "      <td>10.680</td>\n",
       "      <td>9.715</td>\n",
       "      <td>15.81</td>\n",
       "      <td>24.020</td>\n",
       "    </tr>\n",
       "    <tr>\n",
       "      <th>1</th>\n",
       "      <td>79.080</td>\n",
       "      <td>77.730</td>\n",
       "      <td>84.720</td>\n",
       "      <td>79.720</td>\n",
       "      <td>82.33</td>\n",
       "      <td>96.79</td>\n",
       "      <td>53.455</td>\n",
       "      <td>42.13</td>\n",
       "      <td>37.790</td>\n",
       "      <td>41.240</td>\n",
       "      <td>38.47</td>\n",
       "      <td>43.495</td>\n",
       "    </tr>\n",
       "    <tr>\n",
       "      <th>2</th>\n",
       "      <td>61.485</td>\n",
       "      <td>64.950</td>\n",
       "      <td>65.600</td>\n",
       "      <td>64.535</td>\n",
       "      <td>64.74</td>\n",
       "      <td>65.50</td>\n",
       "      <td>15.230</td>\n",
       "      <td>10.89</td>\n",
       "      <td>12.610</td>\n",
       "      <td>9.775</td>\n",
       "      <td>13.03</td>\n",
       "      <td>14.990</td>\n",
       "    </tr>\n",
       "    <tr>\n",
       "      <th>3</th>\n",
       "      <td>36.245</td>\n",
       "      <td>54.255</td>\n",
       "      <td>42.610</td>\n",
       "      <td>49.450</td>\n",
       "      <td>56.32</td>\n",
       "      <td>46.34</td>\n",
       "      <td>32.645</td>\n",
       "      <td>36.38</td>\n",
       "      <td>21.310</td>\n",
       "      <td>35.110</td>\n",
       "      <td>22.92</td>\n",
       "      <td>35.420</td>\n",
       "    </tr>\n",
       "    <tr>\n",
       "      <th>4</th>\n",
       "      <td>53.760</td>\n",
       "      <td>56.780</td>\n",
       "      <td>64.685</td>\n",
       "      <td>44.585</td>\n",
       "      <td>50.70</td>\n",
       "      <td>48.04</td>\n",
       "      <td>23.860</td>\n",
       "      <td>9.77</td>\n",
       "      <td>8.255</td>\n",
       "      <td>10.640</td>\n",
       "      <td>15.46</td>\n",
       "      <td>8.235</td>\n",
       "    </tr>\n",
       "  </tbody>\n",
       "</table>\n",
       "</div>"
      ],
      "text/plain": [
       "   median_amt_time_0  median_amt_time_1  median_amt_time_2  median_amt_time_3  median_amt_time_4  median_amt_time_5  median_amt_time_6  median_amt_time_7  median_amt_time_8  median_amt_time_9  \\\n",
       "0             65.280             64.910             66.955             62.280              68.11              68.67             14.330              11.27             10.680              9.715   \n",
       "1             79.080             77.730             84.720             79.720              82.33              96.79             53.455              42.13             37.790             41.240   \n",
       "2             61.485             64.950             65.600             64.535              64.74              65.50             15.230              10.89             12.610              9.775   \n",
       "3             36.245             54.255             42.610             49.450              56.32              46.34             32.645              36.38             21.310             35.110   \n",
       "4             53.760             56.780             64.685             44.585              50.70              48.04             23.860               9.77              8.255             10.640   \n",
       "\n",
       "   median_amt_time_10  median_amt_time_11  \n",
       "0               15.81              24.020  \n",
       "1               38.47              43.495  \n",
       "2               13.03              14.990  \n",
       "3               22.92              35.420  \n",
       "4               15.46               8.235  "
      ]
     },
     "execution_count": 52,
     "metadata": {},
     "output_type": "execute_result"
    }
   ],
   "source": [
    "X_train[[\n",
    "    \"median_amt_time_0\", \"median_amt_time_1\", \"median_amt_time_2\",\"median_amt_time_3\",\n",
    "    \"median_amt_time_4\",\"median_amt_time_5\",\"median_amt_time_6\",\"median_amt_time_7\",\n",
    "    \"median_amt_time_8\",\"median_amt_time_9\",\"median_amt_time_10\",\"median_amt_time_11\"\n",
    "]].head()"
   ]
  },
  {
   "cell_type": "code",
   "execution_count": 53,
   "id": "9e5bf759",
   "metadata": {},
   "outputs": [
    {
     "data": {
      "text/html": [
       "<div>\n",
       "<style scoped>\n",
       "    .dataframe tbody tr th:only-of-type {\n",
       "        vertical-align: middle;\n",
       "    }\n",
       "\n",
       "    .dataframe tbody tr th {\n",
       "        vertical-align: top;\n",
       "    }\n",
       "\n",
       "    .dataframe thead th {\n",
       "        text-align: right;\n",
       "    }\n",
       "</style>\n",
       "<table border=\"1\" class=\"dataframe\">\n",
       "  <thead>\n",
       "    <tr style=\"text-align: right;\">\n",
       "      <th></th>\n",
       "      <th>std_amt_time_0</th>\n",
       "      <th>std_amt_time_1</th>\n",
       "      <th>std_amt_time_2</th>\n",
       "      <th>std_amt_time_3</th>\n",
       "      <th>std_amt_time_4</th>\n",
       "      <th>std_amt_time_5</th>\n",
       "      <th>std_amt_time_6</th>\n",
       "      <th>std_amt_time_7</th>\n",
       "      <th>std_amt_time_8</th>\n",
       "      <th>std_amt_time_9</th>\n",
       "      <th>std_amt_time_10</th>\n",
       "      <th>std_amt_time_11</th>\n",
       "    </tr>\n",
       "  </thead>\n",
       "  <tbody>\n",
       "    <tr>\n",
       "      <th>0</th>\n",
       "      <td>99.411981</td>\n",
       "      <td>88.242037</td>\n",
       "      <td>65.004556</td>\n",
       "      <td>35.778438</td>\n",
       "      <td>39.455428</td>\n",
       "      <td>265.597681</td>\n",
       "      <td>124.119577</td>\n",
       "      <td>178.655547</td>\n",
       "      <td>119.913434</td>\n",
       "      <td>652.747917</td>\n",
       "      <td>75.107695</td>\n",
       "      <td>69.603651</td>\n",
       "    </tr>\n",
       "    <tr>\n",
       "      <th>1</th>\n",
       "      <td>98.485292</td>\n",
       "      <td>130.377229</td>\n",
       "      <td>105.665749</td>\n",
       "      <td>74.721766</td>\n",
       "      <td>112.881783</td>\n",
       "      <td>93.658322</td>\n",
       "      <td>119.682976</td>\n",
       "      <td>112.425766</td>\n",
       "      <td>134.354231</td>\n",
       "      <td>186.162733</td>\n",
       "      <td>75.014655</td>\n",
       "      <td>97.860854</td>\n",
       "    </tr>\n",
       "    <tr>\n",
       "      <th>2</th>\n",
       "      <td>86.733131</td>\n",
       "      <td>124.017559</td>\n",
       "      <td>48.002366</td>\n",
       "      <td>35.917168</td>\n",
       "      <td>35.612385</td>\n",
       "      <td>44.136540</td>\n",
       "      <td>189.737212</td>\n",
       "      <td>151.689934</td>\n",
       "      <td>111.959364</td>\n",
       "      <td>77.690434</td>\n",
       "      <td>131.462110</td>\n",
       "      <td>88.382094</td>\n",
       "    </tr>\n",
       "    <tr>\n",
       "      <th>3</th>\n",
       "      <td>150.495816</td>\n",
       "      <td>63.425167</td>\n",
       "      <td>191.364818</td>\n",
       "      <td>144.136917</td>\n",
       "      <td>77.412894</td>\n",
       "      <td>48.708170</td>\n",
       "      <td>49.051254</td>\n",
       "      <td>108.565692</td>\n",
       "      <td>43.777295</td>\n",
       "      <td>49.203022</td>\n",
       "      <td>49.391757</td>\n",
       "      <td>127.114736</td>\n",
       "    </tr>\n",
       "    <tr>\n",
       "      <th>4</th>\n",
       "      <td>18.541114</td>\n",
       "      <td>14.570058</td>\n",
       "      <td>19.616799</td>\n",
       "      <td>19.010320</td>\n",
       "      <td>20.890197</td>\n",
       "      <td>28.992835</td>\n",
       "      <td>40.154480</td>\n",
       "      <td>74.815976</td>\n",
       "      <td>85.094995</td>\n",
       "      <td>65.819230</td>\n",
       "      <td>229.663710</td>\n",
       "      <td>40.897920</td>\n",
       "    </tr>\n",
       "  </tbody>\n",
       "</table>\n",
       "</div>"
      ],
      "text/plain": [
       "   std_amt_time_0  std_amt_time_1  std_amt_time_2  std_amt_time_3  std_amt_time_4  std_amt_time_5  std_amt_time_6  std_amt_time_7  std_amt_time_8  std_amt_time_9  std_amt_time_10  std_amt_time_11\n",
       "0       99.411981       88.242037       65.004556       35.778438       39.455428      265.597681      124.119577      178.655547      119.913434      652.747917        75.107695        69.603651\n",
       "1       98.485292      130.377229      105.665749       74.721766      112.881783       93.658322      119.682976      112.425766      134.354231      186.162733        75.014655        97.860854\n",
       "2       86.733131      124.017559       48.002366       35.917168       35.612385       44.136540      189.737212      151.689934      111.959364       77.690434       131.462110        88.382094\n",
       "3      150.495816       63.425167      191.364818      144.136917       77.412894       48.708170       49.051254      108.565692       43.777295       49.203022        49.391757       127.114736\n",
       "4       18.541114       14.570058       19.616799       19.010320       20.890197       28.992835       40.154480       74.815976       85.094995       65.819230       229.663710        40.897920"
      ]
     },
     "execution_count": 53,
     "metadata": {},
     "output_type": "execute_result"
    }
   ],
   "source": [
    "X_train[[\n",
    "    \"std_amt_time_0\", \"std_amt_time_1\", \"std_amt_time_2\", \"std_amt_time_3\",\n",
    "    \"std_amt_time_4\", \"std_amt_time_5\", \"std_amt_time_6\", \"std_amt_time_7\",\n",
    "    \"std_amt_time_8\", \"std_amt_time_9\", \"std_amt_time_10\", \"std_amt_time_11\"\n",
    "]].head()"
   ]
  },
  {
   "cell_type": "code",
   "execution_count": 54,
   "id": "eb115106",
   "metadata": {},
   "outputs": [
    {
     "data": {
      "text/html": [
       "<div>\n",
       "<style scoped>\n",
       "    .dataframe tbody tr th:only-of-type {\n",
       "        vertical-align: middle;\n",
       "    }\n",
       "\n",
       "    .dataframe tbody tr th {\n",
       "        vertical-align: top;\n",
       "    }\n",
       "\n",
       "    .dataframe thead th {\n",
       "        text-align: right;\n",
       "    }\n",
       "</style>\n",
       "<table border=\"1\" class=\"dataframe\">\n",
       "  <thead>\n",
       "    <tr style=\"text-align: right;\">\n",
       "      <th></th>\n",
       "      <th>frac_time_0</th>\n",
       "      <th>frac_time_1</th>\n",
       "      <th>frac_time_2</th>\n",
       "      <th>frac_time_3</th>\n",
       "      <th>frac_time_4</th>\n",
       "      <th>frac_time_5</th>\n",
       "      <th>frac_time_6</th>\n",
       "      <th>frac_time_7</th>\n",
       "      <th>frac_time_8</th>\n",
       "      <th>frac_time_9</th>\n",
       "      <th>frac_time_10</th>\n",
       "      <th>frac_time_11</th>\n",
       "    </tr>\n",
       "  </thead>\n",
       "  <tbody>\n",
       "    <tr>\n",
       "      <th>0</th>\n",
       "      <td>0.053217</td>\n",
       "      <td>0.055636</td>\n",
       "      <td>0.048379</td>\n",
       "      <td>0.051766</td>\n",
       "      <td>0.053701</td>\n",
       "      <td>0.040155</td>\n",
       "      <td>0.099178</td>\n",
       "      <td>0.110789</td>\n",
       "      <td>0.115627</td>\n",
       "      <td>0.134494</td>\n",
       "      <td>0.109821</td>\n",
       "      <td>0.127238</td>\n",
       "    </tr>\n",
       "    <tr>\n",
       "      <th>1</th>\n",
       "      <td>0.045253</td>\n",
       "      <td>0.054599</td>\n",
       "      <td>0.052140</td>\n",
       "      <td>0.038859</td>\n",
       "      <td>0.049680</td>\n",
       "      <td>0.042794</td>\n",
       "      <td>0.131825</td>\n",
       "      <td>0.118544</td>\n",
       "      <td>0.120512</td>\n",
       "      <td>0.115101</td>\n",
       "      <td>0.111658</td>\n",
       "      <td>0.119036</td>\n",
       "    </tr>\n",
       "    <tr>\n",
       "      <th>2</th>\n",
       "      <td>0.041179</td>\n",
       "      <td>0.050868</td>\n",
       "      <td>0.046427</td>\n",
       "      <td>0.050868</td>\n",
       "      <td>0.054501</td>\n",
       "      <td>0.052079</td>\n",
       "      <td>0.125555</td>\n",
       "      <td>0.126363</td>\n",
       "      <td>0.117077</td>\n",
       "      <td>0.111425</td>\n",
       "      <td>0.114251</td>\n",
       "      <td>0.109407</td>\n",
       "    </tr>\n",
       "    <tr>\n",
       "      <th>3</th>\n",
       "      <td>0.072376</td>\n",
       "      <td>0.089264</td>\n",
       "      <td>0.067551</td>\n",
       "      <td>0.079614</td>\n",
       "      <td>0.078408</td>\n",
       "      <td>0.095296</td>\n",
       "      <td>0.096502</td>\n",
       "      <td>0.085645</td>\n",
       "      <td>0.073583</td>\n",
       "      <td>0.067551</td>\n",
       "      <td>0.089264</td>\n",
       "      <td>0.104946</td>\n",
       "    </tr>\n",
       "    <tr>\n",
       "      <th>4</th>\n",
       "      <td>0.020942</td>\n",
       "      <td>0.020942</td>\n",
       "      <td>0.020942</td>\n",
       "      <td>0.036649</td>\n",
       "      <td>0.028796</td>\n",
       "      <td>0.023560</td>\n",
       "      <td>0.136126</td>\n",
       "      <td>0.130890</td>\n",
       "      <td>0.120419</td>\n",
       "      <td>0.164921</td>\n",
       "      <td>0.149215</td>\n",
       "      <td>0.146597</td>\n",
       "    </tr>\n",
       "  </tbody>\n",
       "</table>\n",
       "</div>"
      ],
      "text/plain": [
       "   frac_time_0  frac_time_1  frac_time_2  frac_time_3  frac_time_4  frac_time_5  frac_time_6  frac_time_7  frac_time_8  frac_time_9  frac_time_10  frac_time_11\n",
       "0     0.053217     0.055636     0.048379     0.051766     0.053701     0.040155     0.099178     0.110789     0.115627     0.134494      0.109821      0.127238\n",
       "1     0.045253     0.054599     0.052140     0.038859     0.049680     0.042794     0.131825     0.118544     0.120512     0.115101      0.111658      0.119036\n",
       "2     0.041179     0.050868     0.046427     0.050868     0.054501     0.052079     0.125555     0.126363     0.117077     0.111425      0.114251      0.109407\n",
       "3     0.072376     0.089264     0.067551     0.079614     0.078408     0.095296     0.096502     0.085645     0.073583     0.067551      0.089264      0.104946\n",
       "4     0.020942     0.020942     0.020942     0.036649     0.028796     0.023560     0.136126     0.130890     0.120419     0.164921      0.149215      0.146597"
      ]
     },
     "execution_count": 54,
     "metadata": {},
     "output_type": "execute_result"
    }
   ],
   "source": [
    "X_train[[\n",
    "    \"frac_time_0\", \"frac_time_1\", \"frac_time_2\", \"frac_time_3\",\n",
    "    \"frac_time_4\", \"frac_time_5\", \"frac_time_6\", \"frac_time_7\",\n",
    "    \"frac_time_8\", \"frac_time_9\", \"frac_time_10\", \"frac_time_11\"\n",
    "]].head()"
   ]
  },
  {
   "cell_type": "markdown",
   "id": "1911d9da",
   "metadata": {},
   "source": [
    "**Day of the Week**"
   ]
  },
  {
   "cell_type": "markdown",
   "id": "4dcb378b",
   "metadata": {},
   "source": [
    "- Median Transaction Amount per Day of the Week per Customer\n",
    "- STD Transaction Amount per Day of the Week per Customer\n",
    "- Frequency of Spending per Day per Customer"
   ]
  },
  {
   "cell_type": "markdown",
   "id": "f80e78a6",
   "metadata": {},
   "source": [
    "Ordinal Encoding, due to the day sof the week having a natrual order."
   ]
  },
  {
   "cell_type": "code",
   "execution_count": 55,
   "id": "c2db8e29",
   "metadata": {},
   "outputs": [],
   "source": [
    "# Map days to numbers (Monday=0, ..., Sunday=6)\n",
    "day_mapping = {\"Monday\":0, \"Tuesday\":1, \"Wednesday\":2, \"Thursday\":3, \"Friday\":4, \"Saturday\":5, \"Sunday\":6}\n",
    "X_train[\"day_encoded\"] = X_train[\"day_of_week\"].map(day_mapping)\n",
    "X_test[\"day_encoded\"] = X_test[\"day_of_week\"].map(day_mapping)"
   ]
  },
  {
   "cell_type": "code",
   "execution_count": 56,
   "id": "4d4cd90e",
   "metadata": {},
   "outputs": [],
   "source": [
    "cust_day_stats = X_train.groupby([\"customer_id\", \"day_of_week\"])[\"amt\"].agg(\n",
    "    median_amt=\"median\",\n",
    "    std_amt=\"std\"\n",
    ").unstack(fill_value=0)\n",
    "\n",
    "cust_day_stats.columns = [f\"{stat}_week_{day}\" for stat, day in cust_day_stats.columns]\n",
    "\n",
    "cust_day_counts = X_train.groupby([\"customer_id\", \"day_of_week\"]).size().unstack(fill_value=0)\n",
    "cust_day_frac = cust_day_counts.div(cust_day_counts.sum(axis=1), axis=0)\n",
    "cust_day_frac.columns = [f\"frac_week_{day}\" for day in cust_day_frac.columns]\n",
    "\n",
    "X_train = X_train.merge(cust_day_stats, left_on=\"customer_id\", right_index=True, how=\"left\")\n",
    "X_train = X_train.merge(cust_day_frac, left_on=\"customer_id\", right_index=True, how=\"left\")\n",
    "\n",
    "X_test = X_test.merge(cust_day_stats, left_on=\"customer_id\", right_index=True, how=\"left\")\n",
    "X_test = X_test.merge(cust_day_frac, left_on=\"customer_id\", right_index=True, how=\"left\")"
   ]
  },
  {
   "cell_type": "code",
   "execution_count": 64,
   "id": "3f02d295",
   "metadata": {},
   "outputs": [
    {
     "data": {
      "text/html": [
       "<div>\n",
       "<style scoped>\n",
       "    .dataframe tbody tr th:only-of-type {\n",
       "        vertical-align: middle;\n",
       "    }\n",
       "\n",
       "    .dataframe tbody tr th {\n",
       "        vertical-align: top;\n",
       "    }\n",
       "\n",
       "    .dataframe thead th {\n",
       "        text-align: right;\n",
       "    }\n",
       "</style>\n",
       "<table border=\"1\" class=\"dataframe\">\n",
       "  <thead>\n",
       "    <tr style=\"text-align: right;\">\n",
       "      <th></th>\n",
       "      <th>median_amt_week_Friday</th>\n",
       "      <th>median_amt_week_Monday</th>\n",
       "      <th>median_amt_week_Saturday</th>\n",
       "      <th>median_amt_week_Sunday</th>\n",
       "      <th>median_amt_week_Thursday</th>\n",
       "      <th>median_amt_week_Tuesday</th>\n",
       "      <th>median_amt_week_Wednesday</th>\n",
       "    </tr>\n",
       "  </thead>\n",
       "  <tbody>\n",
       "    <tr>\n",
       "      <th>0</th>\n",
       "      <td>31.56</td>\n",
       "      <td>38.955</td>\n",
       "      <td>33.505</td>\n",
       "      <td>41.685</td>\n",
       "      <td>32.540</td>\n",
       "      <td>27.610</td>\n",
       "      <td>33.795</td>\n",
       "    </tr>\n",
       "    <tr>\n",
       "      <th>1</th>\n",
       "      <td>56.16</td>\n",
       "      <td>56.670</td>\n",
       "      <td>55.330</td>\n",
       "      <td>54.730</td>\n",
       "      <td>59.155</td>\n",
       "      <td>53.505</td>\n",
       "      <td>47.565</td>\n",
       "    </tr>\n",
       "    <tr>\n",
       "      <th>2</th>\n",
       "      <td>35.00</td>\n",
       "      <td>30.745</td>\n",
       "      <td>30.720</td>\n",
       "      <td>35.620</td>\n",
       "      <td>24.200</td>\n",
       "      <td>30.195</td>\n",
       "      <td>34.400</td>\n",
       "    </tr>\n",
       "    <tr>\n",
       "      <th>3</th>\n",
       "      <td>34.42</td>\n",
       "      <td>40.830</td>\n",
       "      <td>46.600</td>\n",
       "      <td>26.405</td>\n",
       "      <td>53.315</td>\n",
       "      <td>39.960</td>\n",
       "      <td>26.880</td>\n",
       "    </tr>\n",
       "    <tr>\n",
       "      <th>4</th>\n",
       "      <td>14.31</td>\n",
       "      <td>19.550</td>\n",
       "      <td>15.715</td>\n",
       "      <td>26.235</td>\n",
       "      <td>16.830</td>\n",
       "      <td>10.100</td>\n",
       "      <td>8.100</td>\n",
       "    </tr>\n",
       "  </tbody>\n",
       "</table>\n",
       "</div>"
      ],
      "text/plain": [
       "   median_amt_week_Friday  median_amt_week_Monday  median_amt_week_Saturday  median_amt_week_Sunday  median_amt_week_Thursday  median_amt_week_Tuesday  median_amt_week_Wednesday\n",
       "0                   31.56                  38.955                    33.505                  41.685                    32.540                   27.610                     33.795\n",
       "1                   56.16                  56.670                    55.330                  54.730                    59.155                   53.505                     47.565\n",
       "2                   35.00                  30.745                    30.720                  35.620                    24.200                   30.195                     34.400\n",
       "3                   34.42                  40.830                    46.600                  26.405                    53.315                   39.960                     26.880\n",
       "4                   14.31                  19.550                    15.715                  26.235                    16.830                   10.100                      8.100"
      ]
     },
     "execution_count": 64,
     "metadata": {},
     "output_type": "execute_result"
    }
   ],
   "source": [
    "X_train[[\n",
    "  'median_amt_week_Friday','median_amt_week_Monday','median_amt_week_Saturday',\n",
    "  'median_amt_week_Sunday','median_amt_week_Thursday','median_amt_week_Tuesday',\n",
    "  'median_amt_week_Wednesday'\n",
    "]].head()"
   ]
  },
  {
   "cell_type": "code",
   "execution_count": 65,
   "id": "4de13e32",
   "metadata": {},
   "outputs": [
    {
     "data": {
      "text/html": [
       "<div>\n",
       "<style scoped>\n",
       "    .dataframe tbody tr th:only-of-type {\n",
       "        vertical-align: middle;\n",
       "    }\n",
       "\n",
       "    .dataframe tbody tr th {\n",
       "        vertical-align: top;\n",
       "    }\n",
       "\n",
       "    .dataframe thead th {\n",
       "        text-align: right;\n",
       "    }\n",
       "</style>\n",
       "<table border=\"1\" class=\"dataframe\">\n",
       "  <thead>\n",
       "    <tr style=\"text-align: right;\">\n",
       "      <th></th>\n",
       "      <th>std_amt_week_Friday</th>\n",
       "      <th>std_amt_week_Monday</th>\n",
       "      <th>std_amt_week_Saturday</th>\n",
       "      <th>std_amt_week_Sunday</th>\n",
       "      <th>std_amt_week_Thursday</th>\n",
       "      <th>std_amt_week_Tuesday</th>\n",
       "      <th>std_amt_week_Wednesday</th>\n",
       "    </tr>\n",
       "  </thead>\n",
       "  <tbody>\n",
       "    <tr>\n",
       "      <th>0</th>\n",
       "      <td>153.338891</td>\n",
       "      <td>99.618981</td>\n",
       "      <td>106.812824</td>\n",
       "      <td>107.910379</td>\n",
       "      <td>702.276250</td>\n",
       "      <td>146.644547</td>\n",
       "      <td>60.635849</td>\n",
       "    </tr>\n",
       "    <tr>\n",
       "      <th>1</th>\n",
       "      <td>117.873403</td>\n",
       "      <td>85.902980</td>\n",
       "      <td>164.819663</td>\n",
       "      <td>120.738044</td>\n",
       "      <td>132.673838</td>\n",
       "      <td>121.768036</td>\n",
       "      <td>97.616337</td>\n",
       "    </tr>\n",
       "    <tr>\n",
       "      <th>2</th>\n",
       "      <td>129.401611</td>\n",
       "      <td>107.741302</td>\n",
       "      <td>75.002686</td>\n",
       "      <td>65.406119</td>\n",
       "      <td>141.757384</td>\n",
       "      <td>92.801400</td>\n",
       "      <td>201.973725</td>\n",
       "    </tr>\n",
       "    <tr>\n",
       "      <th>3</th>\n",
       "      <td>65.518422</td>\n",
       "      <td>69.302789</td>\n",
       "      <td>49.846121</td>\n",
       "      <td>104.209923</td>\n",
       "      <td>203.707805</td>\n",
       "      <td>65.912639</td>\n",
       "      <td>97.976045</td>\n",
       "    </tr>\n",
       "    <tr>\n",
       "      <th>4</th>\n",
       "      <td>62.360823</td>\n",
       "      <td>43.922000</td>\n",
       "      <td>230.262230</td>\n",
       "      <td>54.880121</td>\n",
       "      <td>78.960743</td>\n",
       "      <td>30.810509</td>\n",
       "      <td>42.687108</td>\n",
       "    </tr>\n",
       "  </tbody>\n",
       "</table>\n",
       "</div>"
      ],
      "text/plain": [
       "   std_amt_week_Friday  std_amt_week_Monday  std_amt_week_Saturday  std_amt_week_Sunday  std_amt_week_Thursday  std_amt_week_Tuesday  std_amt_week_Wednesday\n",
       "0           153.338891            99.618981             106.812824           107.910379             702.276250            146.644547               60.635849\n",
       "1           117.873403            85.902980             164.819663           120.738044             132.673838            121.768036               97.616337\n",
       "2           129.401611           107.741302              75.002686            65.406119             141.757384             92.801400              201.973725\n",
       "3            65.518422            69.302789              49.846121           104.209923             203.707805             65.912639               97.976045\n",
       "4            62.360823            43.922000             230.262230            54.880121              78.960743             30.810509               42.687108"
      ]
     },
     "execution_count": 65,
     "metadata": {},
     "output_type": "execute_result"
    }
   ],
   "source": [
    "X_train[[\n",
    "  'std_amt_week_Friday','std_amt_week_Monday','std_amt_week_Saturday',\n",
    "  'std_amt_week_Sunday','std_amt_week_Thursday','std_amt_week_Tuesday',\n",
    "  'std_amt_week_Wednesday'\n",
    "]].head()"
   ]
  },
  {
   "cell_type": "code",
   "execution_count": 62,
   "id": "07e77ae4",
   "metadata": {},
   "outputs": [
    {
     "data": {
      "text/html": [
       "<div>\n",
       "<style scoped>\n",
       "    .dataframe tbody tr th:only-of-type {\n",
       "        vertical-align: middle;\n",
       "    }\n",
       "\n",
       "    .dataframe tbody tr th {\n",
       "        vertical-align: top;\n",
       "    }\n",
       "\n",
       "    .dataframe thead th {\n",
       "        text-align: right;\n",
       "    }\n",
       "</style>\n",
       "<table border=\"1\" class=\"dataframe\">\n",
       "  <thead>\n",
       "    <tr style=\"text-align: right;\">\n",
       "      <th></th>\n",
       "      <th>frac_week_Friday</th>\n",
       "      <th>frac_week_Monday</th>\n",
       "      <th>frac_week_Saturday</th>\n",
       "      <th>frac_week_Sunday</th>\n",
       "      <th>frac_week_Thursday</th>\n",
       "      <th>frac_week_Tuesday</th>\n",
       "      <th>frac_week_Wednesday</th>\n",
       "    </tr>\n",
       "  </thead>\n",
       "  <tbody>\n",
       "    <tr>\n",
       "      <th>0</th>\n",
       "      <td>0.126270</td>\n",
       "      <td>0.179971</td>\n",
       "      <td>0.153846</td>\n",
       "      <td>0.179971</td>\n",
       "      <td>0.116594</td>\n",
       "      <td>0.138849</td>\n",
       "      <td>0.104499</td>\n",
       "    </tr>\n",
       "    <tr>\n",
       "      <th>1</th>\n",
       "      <td>0.114117</td>\n",
       "      <td>0.220856</td>\n",
       "      <td>0.172651</td>\n",
       "      <td>0.179538</td>\n",
       "      <td>0.105263</td>\n",
       "      <td>0.115101</td>\n",
       "      <td>0.092474</td>\n",
       "    </tr>\n",
       "    <tr>\n",
       "      <th>2</th>\n",
       "      <td>0.122325</td>\n",
       "      <td>0.188938</td>\n",
       "      <td>0.141704</td>\n",
       "      <td>0.188131</td>\n",
       "      <td>0.119499</td>\n",
       "      <td>0.125959</td>\n",
       "      <td>0.113444</td>\n",
       "    </tr>\n",
       "    <tr>\n",
       "      <th>3</th>\n",
       "      <td>0.102533</td>\n",
       "      <td>0.199035</td>\n",
       "      <td>0.162847</td>\n",
       "      <td>0.173703</td>\n",
       "      <td>0.115802</td>\n",
       "      <td>0.131484</td>\n",
       "      <td>0.114596</td>\n",
       "    </tr>\n",
       "    <tr>\n",
       "      <th>4</th>\n",
       "      <td>0.091623</td>\n",
       "      <td>0.217277</td>\n",
       "      <td>0.157068</td>\n",
       "      <td>0.251309</td>\n",
       "      <td>0.075916</td>\n",
       "      <td>0.109948</td>\n",
       "      <td>0.096859</td>\n",
       "    </tr>\n",
       "  </tbody>\n",
       "</table>\n",
       "</div>"
      ],
      "text/plain": [
       "   frac_week_Friday  frac_week_Monday  frac_week_Saturday  frac_week_Sunday  frac_week_Thursday  frac_week_Tuesday  frac_week_Wednesday\n",
       "0          0.126270          0.179971            0.153846          0.179971            0.116594           0.138849             0.104499\n",
       "1          0.114117          0.220856            0.172651          0.179538            0.105263           0.115101             0.092474\n",
       "2          0.122325          0.188938            0.141704          0.188131            0.119499           0.125959             0.113444\n",
       "3          0.102533          0.199035            0.162847          0.173703            0.115802           0.131484             0.114596\n",
       "4          0.091623          0.217277            0.157068          0.251309            0.075916           0.109948             0.096859"
      ]
     },
     "execution_count": 62,
     "metadata": {},
     "output_type": "execute_result"
    }
   ],
   "source": [
    "X_train[[\n",
    " 'frac_week_Friday','frac_week_Monday','frac_week_Saturday',\n",
    " 'frac_week_Sunday','frac_week_Thursday','frac_week_Tuesday',\n",
    " 'frac_week_Wednesday'\n",
    "]].head()"
   ]
  },
  {
   "cell_type": "markdown",
   "id": "d1c582e9",
   "metadata": {},
   "source": [
    "**Age**"
   ]
  },
  {
   "cell_type": "markdown",
   "id": "ceac6542",
   "metadata": {},
   "source": [
    "- Relative frequency per age bin\n",
    "- Median transaction amount per age bin\n",
    "- Age"
   ]
  },
  {
   "cell_type": "markdown",
   "id": "24b25026",
   "metadata": {},
   "source": [
    "Binning - Defining 10-year bins starting at 20"
   ]
  },
  {
   "cell_type": "code",
   "execution_count": 66,
   "id": "30f39880",
   "metadata": {},
   "outputs": [],
   "source": [
    "age_bin_counts_train = X_train.groupby(\"age_bin\")[\"trans_num\"].count()\n",
    "total_transactions_train = len(X_train)\n",
    "age_bin_rel_freq_train = (age_bin_counts_train / total_transactions_train).reset_index(name=\"age_bin_rel_freq\")\n",
    "\n",
    "X_train['age_bin_rel_freq'] = X_train['age_bin'].map(\n",
    "    age_bin_rel_freq_train.set_index('age_bin')['age_bin_rel_freq']\n",
    ")\n",
    "\n",
    "X_test['age_bin_rel_freq'] = X_test['age_bin'].map(\n",
    "    age_bin_rel_freq_train.set_index('age_bin')['age_bin_rel_freq']\n",
    ")\n",
    "\n",
    "age_bin_median_train = X_train.groupby(\"age_bin\")[\"amt\"].median().reset_index(name=\"age_bin_median_amt\")\n",
    "\n",
    "X_train = X_train.merge(age_bin_median_train, on=\"age_bin\", how=\"left\")\n",
    "\n",
    "X_test = X_test.merge(age_bin_median_train, on=\"age_bin\", how=\"left\")\n",
    "\n"
   ]
  },
  {
   "cell_type": "code",
   "execution_count": 67,
   "id": "b1046d61",
   "metadata": {},
   "outputs": [
    {
     "data": {
      "text/html": [
       "<div>\n",
       "<style scoped>\n",
       "    .dataframe tbody tr th:only-of-type {\n",
       "        vertical-align: middle;\n",
       "    }\n",
       "\n",
       "    .dataframe tbody tr th {\n",
       "        vertical-align: top;\n",
       "    }\n",
       "\n",
       "    .dataframe thead th {\n",
       "        text-align: right;\n",
       "    }\n",
       "</style>\n",
       "<table border=\"1\" class=\"dataframe\">\n",
       "  <thead>\n",
       "    <tr style=\"text-align: right;\">\n",
       "      <th></th>\n",
       "      <th>age_bin_rel_freq</th>\n",
       "      <th>age_bin_median_amt</th>\n",
       "      <th>age</th>\n",
       "    </tr>\n",
       "  </thead>\n",
       "  <tbody>\n",
       "    <tr>\n",
       "      <th>0</th>\n",
       "      <td>0.203372</td>\n",
       "      <td>51.58</td>\n",
       "      <td>34</td>\n",
       "    </tr>\n",
       "    <tr>\n",
       "      <th>1</th>\n",
       "      <td>0.208771</td>\n",
       "      <td>46.98</td>\n",
       "      <td>54</td>\n",
       "    </tr>\n",
       "    <tr>\n",
       "      <th>2</th>\n",
       "      <td>0.219546</td>\n",
       "      <td>52.31</td>\n",
       "      <td>41</td>\n",
       "    </tr>\n",
       "    <tr>\n",
       "      <th>3</th>\n",
       "      <td>0.208771</td>\n",
       "      <td>46.98</td>\n",
       "      <td>59</td>\n",
       "    </tr>\n",
       "    <tr>\n",
       "      <th>4</th>\n",
       "      <td>0.079303</td>\n",
       "      <td>36.43</td>\n",
       "      <td>27</td>\n",
       "    </tr>\n",
       "  </tbody>\n",
       "</table>\n",
       "</div>"
      ],
      "text/plain": [
       "   age_bin_rel_freq  age_bin_median_amt  age\n",
       "0          0.203372               51.58   34\n",
       "1          0.208771               46.98   54\n",
       "2          0.219546               52.31   41\n",
       "3          0.208771               46.98   59\n",
       "4          0.079303               36.43   27"
      ]
     },
     "execution_count": 67,
     "metadata": {},
     "output_type": "execute_result"
    }
   ],
   "source": [
    "X_train[[\n",
    "    \"age_bin_rel_freq\",\n",
    "    \"age_bin_median_amt\",\n",
    "    \"age\"\n",
    "]].head()"
   ]
  },
  {
   "cell_type": "markdown",
   "id": "0c2e8520",
   "metadata": {},
   "source": [
    "These features are created this way to capture group-level behavioral patterns more accurately for customers, by summarizing statistics such as median spending and transaction frequency for each age group."
   ]
  },
  {
   "cell_type": "markdown",
   "id": "675ee3b5",
   "metadata": {},
   "source": [
    "**Dropped Features:**\n",
    "\n",
    "- `trans_date`, `trans_time`: Already used to generate other features in a processed form.\n",
    "\n",
    "- `day_of_week`, `age_bin`: Already used to create behavioral features, so the original columns are not needed."
   ]
  },
  {
   "cell_type": "code",
   "execution_count": 68,
   "id": "d57d14bf",
   "metadata": {},
   "outputs": [],
   "source": [
    "# List of columns to drop\n",
    "cols_to_drop = [ \n",
    "    \"trans_date\", \"trans_time\", \n",
    "    \"day_of_week\", \"age_bin\"\n",
    "]\n",
    "\n",
    "# Drop columns from X_train and X_test\n",
    "for col in cols_to_drop:\n",
    "    if col in X_train.columns:\n",
    "        X_train.drop(columns=col, inplace=True)\n",
    "    if col in X_test.columns:\n",
    "        X_test.drop(columns=col, inplace=True)\n"
   ]
  },
  {
   "cell_type": "code",
   "execution_count": 71,
   "id": "e236d05c",
   "metadata": {},
   "outputs": [
    {
     "data": {
      "text/plain": [
       "(1037340, 80)"
      ]
     },
     "execution_count": 71,
     "metadata": {},
     "output_type": "execute_result"
    }
   ],
   "source": [
    "X_train.shape"
   ]
  }
 ],
 "metadata": {
  "kernelspec": {
   "display_name": "Python 3",
   "language": "python",
   "name": "python3"
  },
  "language_info": {
   "codemirror_mode": {
    "name": "ipython",
    "version": 3
   },
   "file_extension": ".py",
   "mimetype": "text/x-python",
   "name": "python",
   "nbconvert_exporter": "python",
   "pygments_lexer": "ipython3",
   "version": "3.13.1"
  }
 },
 "nbformat": 4,
 "nbformat_minor": 5
}
